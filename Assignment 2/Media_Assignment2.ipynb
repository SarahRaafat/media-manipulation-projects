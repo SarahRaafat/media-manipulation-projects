{
  "nbformat": 4,
  "nbformat_minor": 0,
  "metadata": {
    "colab": {
      "provenance": []
    },
    "kernelspec": {
      "name": "python3",
      "display_name": "Python 3"
    },
    "language_info": {
      "name": "python"
    }
  },
  "cells": [
    {
      "cell_type": "markdown",
      "source": [
        "# Phase 1"
      ],
      "metadata": {
        "id": "v0HY2hXX0CkR"
      }
    },
    {
      "cell_type": "code",
      "source": [
        "import cv2\n",
        "import os\n",
        "import numpy as np\n",
        "from matplotlib import pyplot as plt\n",
        "import zipfile\n",
        "\n",
        "# Create output directory\n",
        "output_dir = \"motion_frames1\"\n",
        "os.makedirs(output_dir, exist_ok=True)\n",
        "\n",
        "# Initialize video reader\n",
        "cap = cv2.VideoCapture(\"/content/video_with_letters_precise (3).mp4\")\n",
        "ret, prev_frame = cap.read()\n",
        "if not ret:\n",
        "    raise Exception(\"Failed to read video.\")\n",
        "\n",
        "# Convert first frame to grayscale\n",
        "prev_gray = cv2.cvtColor(prev_frame, cv2.COLOR_BGR2GRAY)\n",
        "\n",
        "# Enhance contrast using CLAHE\n",
        "clahe = cv2.createCLAHE(clipLimit=3.0, tileGridSize=(8,8))\n",
        "prev_gray = clahe.apply(prev_gray)\n",
        "\n",
        "frame_count = 1\n",
        "kept = 0\n",
        "\n",
        "while True:\n",
        "    ret, frame = cap.read()\n",
        "    if not ret:\n",
        "        break\n",
        "\n",
        "    gray = cv2.cvtColor(frame, cv2.COLOR_BGR2GRAY)\n",
        "    gray = clahe.apply(gray)\n",
        "\n",
        "    # Frame differencing\n",
        "    diff = cv2.absdiff(prev_gray, gray)\n",
        "\n",
        "    # Normalize difference to enhance contrast\n",
        "    diff = cv2.normalize(diff, None, 0, 255, cv2.NORM_MINMAX)\n",
        "\n",
        "    # Threshold to get binary mask\n",
        "    _, binary = cv2.threshold(diff, 30, 255, cv2.THRESH_BINARY)\n",
        "\n",
        "    # Calculate motion ratio\n",
        "    motion_ratio = np.sum(binary > 0) / binary.size\n",
        "\n",
        "    if motion_ratio < 0.05:\n",
        "        # Save this frame's binary mask\n",
        "        path = os.path.join(output_dir, f\"frame_{frame_count:03d}.png\")\n",
        "        cv2.imwrite(path, binary)\n",
        "        kept += 1\n",
        "\n",
        "    prev_gray = gray\n",
        "    frame_count += 1\n",
        "\n",
        "cap.release()\n",
        "\n",
        "print(f\"Saved {kept} frames with motion ratio < 5% to {output_dir}.\")\n",
        "\n",
        "# Create a zip file of the output directory for easy download\n",
        "zip_path = f\"{output_dir}.zip\"\n",
        "with zipfile.ZipFile(zip_path, 'w', zipfile.ZIP_DEFLATED) as zipf:\n",
        "    for root, dirs, files in os.walk(output_dir):\n",
        "        for file in files:\n",
        "            file_path = os.path.join(root, file)\n",
        "            arcname = os.path.relpath(file_path, start=output_dir)\n",
        "            zipf.write(file_path, arcname=os.path.join(output_dir, arcname))\n",
        "\n",
        "print(f\"Created zip archive at {zip_path} ready for download.\")"
      ],
      "metadata": {
        "colab": {
          "base_uri": "https://localhost:8080/"
        },
        "id": "r65Am4VTqB8W",
        "outputId": "c2f2a85c-e710-4a70-f570-0f932829817c"
      },
      "execution_count": 6,
      "outputs": [
        {
          "output_type": "stream",
          "name": "stdout",
          "text": [
            "Saved 17 frames with motion ratio < 5% to motion_frames1.\n",
            "Created zip archive at motion_frames1.zip ready for download.\n"
          ]
        }
      ]
    },
    {
      "cell_type": "markdown",
      "source": [
        "# Phase 2"
      ],
      "metadata": {
        "id": "9rfH3sYB0T6-"
      }
    },
    {
      "cell_type": "code",
      "source": [
        "!pip install moviepy noisereduce scipy"
      ],
      "metadata": {
        "colab": {
          "base_uri": "https://localhost:8080/"
        },
        "id": "Nej5WvfTyRMq",
        "outputId": "08c9dcf2-2bbd-48f6-d996-dab81f580c3b"
      },
      "execution_count": 2,
      "outputs": [
        {
          "output_type": "stream",
          "name": "stdout",
          "text": [
            "Requirement already satisfied: moviepy in /usr/local/lib/python3.11/dist-packages (1.0.3)\n",
            "Collecting noisereduce\n",
            "  Downloading noisereduce-3.0.3-py3-none-any.whl.metadata (14 kB)\n",
            "Requirement already satisfied: scipy in /usr/local/lib/python3.11/dist-packages (1.15.2)\n",
            "Requirement already satisfied: decorator<5.0,>=4.0.2 in /usr/local/lib/python3.11/dist-packages (from moviepy) (4.4.2)\n",
            "Requirement already satisfied: tqdm<5.0,>=4.11.2 in /usr/local/lib/python3.11/dist-packages (from moviepy) (4.67.1)\n",
            "Requirement already satisfied: requests<3.0,>=2.8.1 in /usr/local/lib/python3.11/dist-packages (from moviepy) (2.32.3)\n",
            "Requirement already satisfied: proglog<=1.0.0 in /usr/local/lib/python3.11/dist-packages (from moviepy) (0.1.11)\n",
            "Requirement already satisfied: numpy>=1.17.3 in /usr/local/lib/python3.11/dist-packages (from moviepy) (2.0.2)\n",
            "Requirement already satisfied: imageio<3.0,>=2.5 in /usr/local/lib/python3.11/dist-packages (from moviepy) (2.37.0)\n",
            "Requirement already satisfied: imageio-ffmpeg>=0.2.0 in /usr/local/lib/python3.11/dist-packages (from moviepy) (0.6.0)\n",
            "Requirement already satisfied: matplotlib in /usr/local/lib/python3.11/dist-packages (from noisereduce) (3.10.0)\n",
            "Requirement already satisfied: joblib in /usr/local/lib/python3.11/dist-packages (from noisereduce) (1.4.2)\n",
            "Requirement already satisfied: pillow>=8.3.2 in /usr/local/lib/python3.11/dist-packages (from imageio<3.0,>=2.5->moviepy) (11.2.1)\n",
            "Requirement already satisfied: charset-normalizer<4,>=2 in /usr/local/lib/python3.11/dist-packages (from requests<3.0,>=2.8.1->moviepy) (3.4.1)\n",
            "Requirement already satisfied: idna<4,>=2.5 in /usr/local/lib/python3.11/dist-packages (from requests<3.0,>=2.8.1->moviepy) (3.10)\n",
            "Requirement already satisfied: urllib3<3,>=1.21.1 in /usr/local/lib/python3.11/dist-packages (from requests<3.0,>=2.8.1->moviepy) (2.4.0)\n",
            "Requirement already satisfied: certifi>=2017.4.17 in /usr/local/lib/python3.11/dist-packages (from requests<3.0,>=2.8.1->moviepy) (2025.4.26)\n",
            "Requirement already satisfied: contourpy>=1.0.1 in /usr/local/lib/python3.11/dist-packages (from matplotlib->noisereduce) (1.3.2)\n",
            "Requirement already satisfied: cycler>=0.10 in /usr/local/lib/python3.11/dist-packages (from matplotlib->noisereduce) (0.12.1)\n",
            "Requirement already satisfied: fonttools>=4.22.0 in /usr/local/lib/python3.11/dist-packages (from matplotlib->noisereduce) (4.57.0)\n",
            "Requirement already satisfied: kiwisolver>=1.3.1 in /usr/local/lib/python3.11/dist-packages (from matplotlib->noisereduce) (1.4.8)\n",
            "Requirement already satisfied: packaging>=20.0 in /usr/local/lib/python3.11/dist-packages (from matplotlib->noisereduce) (24.2)\n",
            "Requirement already satisfied: pyparsing>=2.3.1 in /usr/local/lib/python3.11/dist-packages (from matplotlib->noisereduce) (3.2.3)\n",
            "Requirement already satisfied: python-dateutil>=2.7 in /usr/local/lib/python3.11/dist-packages (from matplotlib->noisereduce) (2.9.0.post0)\n",
            "Requirement already satisfied: six>=1.5 in /usr/local/lib/python3.11/dist-packages (from python-dateutil>=2.7->matplotlib->noisereduce) (1.17.0)\n",
            "Downloading noisereduce-3.0.3-py3-none-any.whl (22 kB)\n",
            "Installing collected packages: noisereduce\n",
            "Successfully installed noisereduce-3.0.3\n"
          ]
        }
      ]
    },
    {
      "cell_type": "code",
      "source": [
        "import moviepy.editor as mp\n",
        "import noisereduce as nr\n",
        "import scipy.io.wavfile as wav\n",
        "import numpy as np\n",
        "\n",
        "# Step 1: Extract audio from video\n",
        "video = mp.VideoFileClip(\"/content/Fruit Animation.mp4\")\n",
        "audio_path = \"extracted_audio.wav\"\n",
        "video.audio.write_audiofile(audio_path)\n",
        "\n",
        "# Step 2: Read audio file\n",
        "rate, data = wav.read(audio_path)\n",
        "\n",
        "# Step 3: If stereo, use only one channel\n",
        "if len(data.shape) == 2:\n",
        "    data = data[:, 0]\n",
        "\n",
        "# Step 4: Noise reduction\n",
        "noise_sample = data[0:int(rate * 0.5)]  # Use first 0.5 seconds as noise profile\n",
        "\n",
        "denoised = nr.reduce_noise(y=data, sr=rate, y_noise=noise_sample)\n",
        "\n",
        "# Step 5: Save denoised audio\n",
        "wav.write(\"denoised_audio.wav\", rate, denoised.astype(np.int16))\n",
        "\n",
        "print(\"✅ Audio denoised and saved as denoised_audio.wav.\")\n"
      ],
      "metadata": {
        "colab": {
          "base_uri": "https://localhost:8080/"
        },
        "id": "abz8wA5XyW7e",
        "outputId": "84e0ca94-23f5-4144-8179-5619480e8b65"
      },
      "execution_count": 3,
      "outputs": [
        {
          "output_type": "stream",
          "name": "stderr",
          "text": [
            "WARNING:py.warnings:/usr/local/lib/python3.11/dist-packages/moviepy/video/io/sliders.py:61: SyntaxWarning: \"is\" with a literal. Did you mean \"==\"?\n",
            "  if event.key is 'enter':\n",
            "\n"
          ]
        },
        {
          "output_type": "stream",
          "name": "stdout",
          "text": [
            "MoviePy - Writing audio in extracted_audio.wav\n"
          ]
        },
        {
          "output_type": "stream",
          "name": "stderr",
          "text": [
            "                                                                   "
          ]
        },
        {
          "output_type": "stream",
          "name": "stdout",
          "text": [
            "MoviePy - Done.\n"
          ]
        },
        {
          "output_type": "stream",
          "name": "stderr",
          "text": [
            "\r"
          ]
        },
        {
          "output_type": "stream",
          "name": "stdout",
          "text": [
            "✅ Audio denoised and saved as denoised_audio.wav.\n"
          ]
        }
      ]
    },
    {
      "cell_type": "markdown",
      "source": [
        "# Phase 3"
      ],
      "metadata": {
        "id": "MqmiQXXq0a7F"
      }
    },
    {
      "cell_type": "code",
      "source": [
        "def interlace_frame(frame, field='odd'):\n",
        "    interlaced = frame.copy()\n",
        "    if field == 'odd':\n",
        "        interlaced[::2] = (interlaced[::2] * 0.5).astype(np.uint8)\n",
        "    else:\n",
        "        interlaced[1::2] = (interlaced[1::2] * 0.5).astype(np.uint8)\n",
        "    return interlaced\n",
        "\n",
        "def interlace_video(input_path, output_path, field='odd'):\n",
        "    cap = cv2.VideoCapture(input_path)\n",
        "    fourcc = cv2.VideoWriter_fourcc(*'mp4v')\n",
        "    fps = cap.get(cv2.CAP_PROP_FPS)\n",
        "    w = int(cap.get(cv2.CAP_PROP_FRAME_WIDTH))\n",
        "    h = int(cap.get(cv2.CAP_PROP_FRAME_HEIGHT))\n",
        "    out = cv2.VideoWriter(output_path, fourcc, fps, (w, h))\n",
        "\n",
        "    while True:\n",
        "        ret, frame = cap.read()\n",
        "        if not ret:\n",
        "            break\n",
        "        interlaced = interlace_frame(frame, field)\n",
        "        out.write(interlaced)\n",
        "\n",
        "    cap.release()\n",
        "    out.release()\n",
        "\n",
        "# Apply both interlacings\n",
        "interlace_video(\"Fruit Animation.mp4\", \"video_odd_interlaced.mp4\", \"odd\")\n",
        "interlace_video(\"Fruit Animation.mp4\", \"video_even_interlaced.mp4\", \"even\")\n",
        "\n",
        "# Create comparison image\n",
        "cap1 = cv2.VideoCapture(\"video_odd_interlaced.mp4\")\n",
        "cap2 = cv2.VideoCapture(\"video_even_interlaced.mp4\")\n",
        "ret1, frame1 = cap1.read()\n",
        "ret2, frame2 = cap2.read()\n",
        "cap1.release()\n",
        "cap2.release()\n",
        "\n",
        "combined = np.hstack((frame1, frame2))\n",
        "cv2.imwrite(\"interlaced_frame_comparison.png\", combined)\n",
        "\n",
        "# Display inline\n",
        "plt.imshow(cv2.cvtColor(combined, cv2.COLOR_BGR2RGB))\n",
        "plt.title(\"Interlaced Frame Comparison\")\n",
        "plt.axis('off')\n",
        "plt.show()\n"
      ],
      "metadata": {
        "colab": {
          "base_uri": "https://localhost:8080/",
          "height": 198
        },
        "id": "HDOYfizgqIfb",
        "outputId": "8f7da5b4-8a13-478c-bb86-eb2793d9d273"
      },
      "execution_count": 4,
      "outputs": [
        {
          "output_type": "display_data",
          "data": {
            "text/plain": [
              "<Figure size 640x480 with 1 Axes>"
            ],
            "image/png": "[encoded data removed]"
          },
          "metadata": {}
        }
      ]
    },
    {
      "cell_type": "markdown",
      "source": [
        "# Bonus"
      ],
      "metadata": {
        "id": "skoZ3dho0bM_"
      }
    },
    {
      "cell_type": "code",
      "source": [
        "import cv2\n",
        "import numpy as np\n",
        "\n",
        "# Load original video\n",
        "cap = cv2.VideoCapture('/content/Fruit Animation.mp4')\n",
        "\n",
        "# Get video properties\n",
        "width = int(cap.get(cv2.CAP_PROP_FRAME_WIDTH))\n",
        "height = int(cap.get(cv2.CAP_PROP_FRAME_HEIGHT))\n",
        "fps = int(cap.get(cv2.CAP_PROP_FPS))\n",
        "fourcc = cv2.VideoWriter_fourcc(*'mp4v')\n",
        "\n",
        "# Output writer for flicker effect\n",
        "out = cv2.VideoWriter('scanline_flicker.mp4', fourcc, fps, (width, height))\n",
        "\n",
        "while True:\n",
        "    ret, frame = cap.read()\n",
        "    if not ret:\n",
        "        break\n",
        "\n",
        "    # Copy the frame for both odd and even field versions\n",
        "    odd_frame = frame.copy()\n",
        "    even_frame = frame.copy()\n",
        "\n",
        "    # Strongly darken even rows in odd_frame (simulate odd field)\n",
        "    odd_frame[::2] = (odd_frame[::2] * 0.1).astype(np.uint8)\n",
        "\n",
        "    # Strongly darken odd rows in even_frame (simulate even field)\n",
        "    even_frame[1::2] = (even_frame[1::2] * 0.1).astype(np.uint8)\n",
        "\n",
        "    # Alternate writing odd and even frames to simulate flicker\n",
        "    out.write(odd_frame)\n",
        "    out.write(even_frame)\n",
        "\n",
        "# Cleanup\n",
        "cap.release()\n",
        "out.release()\n",
        "\n",
        "print(\"⚡ Enhanced scanline flicker effect saved as scanline_flicker.mp4\")\n"
      ],
      "metadata": {
        "colab": {
          "base_uri": "https://localhost:8080/"
        },
        "id": "jbmXROBb0sri",
        "outputId": "36780a0f-a920-447a-fb4b-e30a74afc6ef"
      },
      "execution_count": 5,
      "outputs": [
        {
          "output_type": "stream",
          "name": "stdout",
          "text": [
            "⚡ Enhanced scanline flicker effect saved as scanline_flicker.mp4\n"
          ]
        }
      ]
    }
  ]
}